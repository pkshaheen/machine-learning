{
 "cells": [
  {
   "cell_type": "markdown",
   "id": "de3eb273-ae09-4bb6-b712-dd935eb14411",
   "metadata": {},
   "source": [
    "## Hypothesis Testing:"
   ]
  },
  {
   "cell_type": "markdown",
   "id": "db479a1a-ad46-4a25-84a2-e872efc46022",
   "metadata": {},
   "source": [
    "#### Q1. Suppose a child psychologist claims that the average time working mothers spend talking to their children is at least 11 minutes per day. You conduct a random sample of 1000 working mothers and find they spend an average of 11.5 minutes per day talking with their children. Assume prior research suggests the population standard deviation is 2.3 minutes. Conduct a test with a level of significance of alpha = 0.05.\n"
   ]
  },
  {
   "cell_type": "code",
   "execution_count": 4,
   "id": "ef17f4b4-5bb9-4d22-ac1c-cffc7c94207a",
   "metadata": {},
   "outputs": [],
   "source": [
    "import scipy.stats as stats\n",
    "import math"
   ]
  },
  {
   "cell_type": "code",
   "execution_count": 5,
   "id": "f13af9a6-5889-47a3-bee3-ae98c1bd42ea",
   "metadata": {},
   "outputs": [],
   "source": [
    "population_mean = 11 \n",
    "sample_mean = 11.5\n",
    "population_std = 2.3\n",
    "sample_size = 1000\n",
    "alpha = 0.05"
   ]
  },
  {
   "cell_type": "code",
   "execution_count": 6,
   "id": "c8f336e6-3f0a-4a7c-abb2-eb6dcfc0f55b",
   "metadata": {},
   "outputs": [
    {
     "data": {
      "text/plain": [
       "6.874516652539955"
      ]
     },
     "execution_count": 6,
     "metadata": {},
     "output_type": "execute_result"
    }
   ],
   "source": [
    "z = (sample_mean-population_mean) / (population_std/math.sqrt(sample_size))\n",
    "z"
   ]
  },
  {
   "cell_type": "code",
   "execution_count": 7,
   "id": "1614cf90-01e8-42a9-90e3-c6fb16f0955a",
   "metadata": {},
   "outputs": [
    {
     "data": {
      "text/plain": [
       "np.float64(-1.6448536269514729)"
      ]
     },
     "execution_count": 7,
     "metadata": {},
     "output_type": "execute_result"
    }
   ],
   "source": [
    "z_critical = stats.norm.ppf(alpha)\n",
    "z_critical"
   ]
  },
  {
   "cell_type": "code",
   "execution_count": 8,
   "id": "ce4f12b4-dd00-4ca9-ab6e-c6fbf21bc09a",
   "metadata": {},
   "outputs": [
    {
     "name": "stdout",
     "output_type": "stream",
     "text": [
      "Fail to reject the null hypothesis: There is not enough evidence to support the claim.\n"
     ]
    }
   ],
   "source": [
    "if z < z_critical:\n",
    "    print(\"Reject the null hypothesis: There is enough evidence to support the claim.\")\n",
    "else:\n",
    "    print(\"Fail to reject the null hypothesis: There is not enough evidence to support the claim.\")"
   ]
  },
  {
   "cell_type": "markdown",
   "id": "ffbf4f98-6ac6-4cd4-8ec6-5b5c5156d696",
   "metadata": {},
   "source": [
    "### Conclusion:\n",
    "#### There is not enough evidence to support the psychologist's claim that the average time working mothers spend talking to their children is less than 11 minutes per day."
   ]
  },
  {
   "cell_type": "markdown",
   "id": "cc0c5a2a-49cb-45c9-aff9-5e5863156b91",
   "metadata": {},
   "source": [
    "#### Q2. A coffee shop claims that their average wait time for customers is less than 5 minutes. To test this claim, a sample of 40 customers is taken, and their wait times are recorded. The sample mean wait time is found to be 4.6 minutes with a standard deviation of 0.8 minutes. Perform a hypothesis test at a significance level of 0.05 and determine whether there is enough evidence to support the coffee shop's claim."
   ]
  },
  {
   "cell_type": "code",
   "execution_count": 9,
   "id": "84eb052e-5d70-4d34-bbdf-99da9dfc566e",
   "metadata": {},
   "outputs": [],
   "source": [
    "population_mean = 5  \n",
    "sample_mean = 4.6\n",
    "sample_std = 0.8\n",
    "sample_size = 40\n",
    "alpha = 0.05"
   ]
  },
  {
   "cell_type": "code",
   "execution_count": 10,
   "id": "fe504816-98eb-4774-8e12-6257ed3cb41b",
   "metadata": {},
   "outputs": [
    {
     "data": {
      "text/plain": [
       "-3.162277660168382"
      ]
     },
     "execution_count": 10,
     "metadata": {},
     "output_type": "execute_result"
    }
   ],
   "source": [
    "t = (sample_mean-population_mean) / (sample_std/math.sqrt(sample_size))\n",
    "t"
   ]
  },
  {
   "cell_type": "code",
   "execution_count": 11,
   "id": "49a2f56c-aeca-46d9-8879-768500507d14",
   "metadata": {},
   "outputs": [
    {
     "data": {
      "text/plain": [
       "39"
      ]
     },
     "execution_count": 11,
     "metadata": {},
     "output_type": "execute_result"
    }
   ],
   "source": [
    "df = sample_size-1\n",
    "df"
   ]
  },
  {
   "cell_type": "code",
   "execution_count": 12,
   "id": "68307ee1-7cb4-40cc-9f3d-78cded242372",
   "metadata": {},
   "outputs": [
    {
     "data": {
      "text/plain": [
       "np.float64(-1.684875121711225)"
      ]
     },
     "execution_count": 12,
     "metadata": {},
     "output_type": "execute_result"
    }
   ],
   "source": [
    "t_critical = stats.t.ppf(alpha, df)\n",
    "t_critical"
   ]
  },
  {
   "cell_type": "code",
   "execution_count": 13,
   "id": "a68b6d16-b997-450b-a208-55c2338b479f",
   "metadata": {},
   "outputs": [
    {
     "name": "stdout",
     "output_type": "stream",
     "text": [
      "Reject the null hypothesis: There is enough evidence to support the claim.\n"
     ]
    }
   ],
   "source": [
    "if t < t_critical:\n",
    "    print(\"Reject the null hypothesis: There is enough evidence to support the claim.\")\n",
    "else:\n",
    "    print(\"Fail to reject the null hypothesis: There is not enough evidence to support the claim.\")"
   ]
  },
  {
   "cell_type": "markdown",
   "id": "e8050084-1540-415d-b0c4-df78c7cb70d7",
   "metadata": {},
   "source": [
    "### Conclusion:\n",
    "#### There is enough evidence to support the coffee shop's claim that their average wait time for customers is less than 5 minutes."
   ]
  },
  {
   "cell_type": "code",
   "execution_count": null,
   "id": "0eb307f8-8904-48b6-b5e8-429d33b31cce",
   "metadata": {},
   "outputs": [],
   "source": []
  }
 ],
 "metadata": {
  "kernelspec": {
   "display_name": "Python 3 (ipykernel)",
   "language": "python",
   "name": "python3"
  },
  "language_info": {
   "codemirror_mode": {
    "name": "ipython",
    "version": 3
   },
   "file_extension": ".py",
   "mimetype": "text/x-python",
   "name": "python",
   "nbconvert_exporter": "python",
   "pygments_lexer": "ipython3",
   "version": "3.12.5"
  }
 },
 "nbformat": 4,
 "nbformat_minor": 5
}
